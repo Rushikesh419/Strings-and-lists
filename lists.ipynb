{
  "nbformat": 4,
  "nbformat_minor": 0,
  "metadata": {
    "colab": {
      "provenance": [],
      "authorship_tag": "ABX9TyOTYPPZbyidro3N+xitlvwY",
      "include_colab_link": true
    },
    "kernelspec": {
      "name": "python3",
      "display_name": "Python 3"
    },
    "language_info": {
      "name": "python"
    }
  },
  "cells": [
    {
      "cell_type": "markdown",
      "metadata": {
        "id": "view-in-github",
        "colab_type": "text"
      },
      "source": [
        "<a href=\"https://colab.research.google.com/github/Rushikesh419/Strings-and-lists/blob/main/lists.ipynb\" target=\"_parent\"><img src=\"https://colab.research.google.com/assets/colab-badge.svg\" alt=\"Open In Colab\"/></a>"
      ]
    },
    {
      "cell_type": "code",
      "execution_count": 1,
      "metadata": {
        "colab": {
          "base_uri": "https://localhost:8080/"
        },
        "id": "doSyEf49x6FW",
        "outputId": "f107a476-d6c3-44fb-cddf-d86f30fdb9a2"
      },
      "outputs": [
        {
          "output_type": "stream",
          "name": "stdout",
          "text": [
            "enter the stringmy name is rushikesh\n",
            "largest word is  rushikesh\n"
          ]
        }
      ],
      "source": [
        "# 1) display the largest number\n",
        "str=input('enter the string')\n",
        "w=str.split()\n",
        "max=0\n",
        "b=''\n",
        "for i in w:\n",
        "    if len(i)>max:\n",
        "        b=i\n",
        "        max=len(i)\n",
        "print('largest word is ',b)"
      ]
    },
    {
      "cell_type": "code",
      "source": [
        "# WAP to display unique words drom string\n",
        "str=input('enter the string')\n",
        "w=str.split()\n",
        "l=[]\n",
        "for i in w:\n",
        "    if i  not in l:\n",
        "        l.append(i)\n",
        "print(l)\n",
        "p=' '.join(l)\n",
        "print(p)"
      ],
      "metadata": {
        "colab": {
          "base_uri": "https://localhost:8080/"
        },
        "id": "HSWiUfCCyKPl",
        "outputId": "e9fbccb3-9aa9-47f9-fb9c-ffc72d3d8475"
      },
      "execution_count": 2,
      "outputs": [
        {
          "output_type": "stream",
          "name": "stdout",
          "text": [
            "enter the stringhow much wood could a wood chuck chuck if wood chuck could chuck wood\n",
            "['how', 'much', 'wood', 'could', 'a', 'chuck', 'if']\n",
            "how much wood could a chuck if\n"
          ]
        }
      ]
    },
    {
      "cell_type": "code",
      "source": [
        "# 5) accept string and repalace all spaces for#\n",
        "str=input('enter the string')\n",
        "w=str.replace(' ','#')\n",
        "print(w)\n",
        "\n",
        "# another approach\n",
        "str=input('enter the string')\n",
        "str1=''\n",
        "for i in str:\n",
        "    if i.isspace():\n",
        "        str1=str1+'#'\n",
        "    else:\n",
        "        str1=str1+i\n",
        "print(str1)"
      ],
      "metadata": {
        "colab": {
          "base_uri": "https://localhost:8080/"
        },
        "id": "NIjl8uFiyc4k",
        "outputId": "07f2a792-dfc1-4df3-8e0a-ac8f6e6be11b"
      },
      "execution_count": 3,
      "outputs": [
        {
          "output_type": "stream",
          "name": "stdout",
          "text": [
            "enter the stringwho are you\n",
            "who#are#you\n",
            "enter the stringwho are you\n",
            "who#are#you\n"
          ]
        }
      ]
    }
  ]
}