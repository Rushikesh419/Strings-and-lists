{
  "nbformat": 4,
  "nbformat_minor": 0,
  "metadata": {
    "colab": {
      "provenance": [],
      "authorship_tag": "ABX9TyPkC4c+K6Z3ixIt1abXMrBP",
      "include_colab_link": true
    },
    "kernelspec": {
      "name": "python3",
      "display_name": "Python 3"
    },
    "language_info": {
      "name": "python"
    }
  },
  "cells": [
    {
      "cell_type": "markdown",
      "metadata": {
        "id": "view-in-github",
        "colab_type": "text"
      },
      "source": [
        "<a href=\"https://colab.research.google.com/github/Rushikesh419/Strings-and-lists/blob/main/strings2.ipynb\" target=\"_parent\"><img src=\"https://colab.research.google.com/assets/colab-badge.svg\" alt=\"Open In Colab\"/></a>"
      ]
    },
    {
      "cell_type": "code",
      "execution_count": 1,
      "metadata": {
        "colab": {
          "base_uri": "https://localhost:8080/"
        },
        "id": "tP3Q0IZT1sr_",
        "outputId": "37eed92f-5efd-461f-ff3d-14ae2d0b50f7"
      },
      "outputs": [
        {
          "output_type": "stream",
          "name": "stdout",
          "text": [
            "forward direction\n",
            "Learning python is very good!!!\n",
            "reverse direction\n",
            "!!!doog yrev si nohtyp gninraeL"
          ]
        }
      ],
      "source": [
        "# STRINGS in forward and backward\n",
        "s=\"Learning python is very good!!!\"\n",
        "n=len(s)\n",
        "i=0\n",
        "print('forward direction')\n",
        "while i<n:\n",
        "    print(s[i],end='')\n",
        "    i=i+1\n",
        "\n",
        "print(\"\\nreverse direction\")\n",
        "i=1\n",
        "while i<=n:\n",
        "    print(s[-i],end='')\n",
        "    i=i+1"
      ]
    },
    {
      "cell_type": "code",
      "source": [
        "# to display all the positions of substrings\n",
        "s=input(\"Entermainstring:\")\n",
        "subs=input(\"Entersubstring:\")\n",
        "flag=False\n",
        "pos=-1\n",
        "n=len(s)\n",
        "while True:\n",
        "  pos=s.find(subs,pos+1,n)\n",
        "  if pos==-1:\n",
        "    break\n",
        "  print(\"Found at position\",pos)\n",
        "  flag=True\n",
        "if flag==False:\n",
        "  print(\"Not Found\")"
      ],
      "metadata": {
        "colab": {
          "base_uri": "https://localhost:8080/"
        },
        "id": "B9pCMWK415HI",
        "outputId": "b737dff4-87fc-4c3c-f2f9-e85844997adf"
      },
      "execution_count": 2,
      "outputs": [
        {
          "output_type": "stream",
          "name": "stdout",
          "text": [
            "Entermainstring:my name is rushikesh and i am an indian\n",
            "Entersubstring:r\n",
            "Found at position 11\n"
          ]
        }
      ]
    },
    {
      "cell_type": "code",
      "source": [
        "# program to reverse order of words\n",
        "n=input('enter the string : ')\n",
        "l=n.split()\n",
        "l1=[]\n",
        "i=len(l)-1\n",
        "while i>=0:\n",
        "    l1.append(l[i])\n",
        "    i=i-1\n",
        "output=' '.join(l1)\n",
        "print(output)"
      ],
      "metadata": {
        "colab": {
          "base_uri": "https://localhost:8080/"
        },
        "id": "gNSBL0xo2Gd6",
        "outputId": "515f938e-6e47-4092-b17c-e2ef3e24263b"
      },
      "execution_count": 3,
      "outputs": [
        {
          "output_type": "stream",
          "name": "stdout",
          "text": [
            "enter the string : my name is rushikesh.\n",
            "rushikesh. is name my\n"
          ]
        }
      ]
    },
    {
      "cell_type": "code",
      "source": [
        "# program to remove duplicate character\n",
        "s=input(\"EnterSomeString:\")\n",
        "l=[]\n",
        "for x in s:\n",
        "  if x not in l:\n",
        "     l.append(x)\n",
        "output=''.join(l)\n",
        "print(output)"
      ],
      "metadata": {
        "colab": {
          "base_uri": "https://localhost:8080/"
        },
        "id": "PxtMJ-Ly2W1W",
        "outputId": "57c52cb1-80be-4bdf-c161-63c9532f51b6"
      },
      "execution_count": 4,
      "outputs": [
        {
          "output_type": "stream",
          "name": "stdout",
          "text": [
            "EnterSomeString:aasaranmjhfdrrtyklloih\n",
            "asrnmjhfdtykloi\n"
          ]
        }
      ]
    },
    {
      "cell_type": "code",
      "source": [
        "#Write a Program to find the Number of Occurrences of each Character present in the given String?\n",
        "s=input(\"Enter Some String:\")\n",
        "d={}\n",
        "for x in s:\n",
        "  if x in d.keys():\n",
        "     d[x]=d[x]+1\n",
        "  else:\n",
        "     d[x]=1\n",
        "for k,v in d.items():\n",
        "   print(\"{} = {} Times\".format(k,v))"
      ],
      "metadata": {
        "colab": {
          "base_uri": "https://localhost:8080/"
        },
        "id": "dhNMvMF82mxx",
        "outputId": "f019c8f8-7cb4-4e7e-acc3-8d21d660c394"
      },
      "execution_count": 5,
      "outputs": [
        {
          "output_type": "stream",
          "name": "stdout",
          "text": [
            "Enter Some String:who are you ? what is your name\n",
            "w = 2 Times\n",
            "h = 2 Times\n",
            "o = 3 Times\n",
            "  = 7 Times\n",
            "a = 3 Times\n",
            "r = 2 Times\n",
            "e = 2 Times\n",
            "y = 2 Times\n",
            "u = 2 Times\n",
            "? = 1 Times\n",
            "t = 1 Times\n",
            "i = 1 Times\n",
            "s = 1 Times\n",
            "n = 1 Times\n",
            "m = 1 Times\n"
          ]
        }
      ]
    }
  ]
}