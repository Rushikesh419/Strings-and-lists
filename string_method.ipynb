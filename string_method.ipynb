{
  "nbformat": 4,
  "nbformat_minor": 0,
  "metadata": {
    "colab": {
      "provenance": [],
      "authorship_tag": "ABX9TyOjn6EKMBBFkFGyDrmVcUmY",
      "include_colab_link": true
    },
    "kernelspec": {
      "name": "python3",
      "display_name": "Python 3"
    },
    "language_info": {
      "name": "python"
    }
  },
  "cells": [
    {
      "cell_type": "markdown",
      "metadata": {
        "id": "view-in-github",
        "colab_type": "text"
      },
      "source": [
        "<a href=\"https://colab.research.google.com/github/Rushikesh419/Strings-and-lists/blob/main/string_method.ipynb\" target=\"_parent\"><img src=\"https://colab.research.google.com/assets/colab-badge.svg\" alt=\"Open In Colab\"/></a>"
      ]
    },
    {
      "cell_type": "code",
      "execution_count": 1,
      "metadata": {
        "colab": {
          "base_uri": "https://localhost:8080/"
        },
        "id": "AOoNzOFhgpBK",
        "outputId": "b588b2b3-b47b-464c-86ab-0f5b1adaae82"
      },
      "outputs": [
        {
          "output_type": "stream",
          "name": "stdout",
          "text": [
            "<class 'str'>\n",
            "harry good morning \n",
            "write anything: my name is rushikesh.\n",
            "y\n",
            " \n",
            "21\n",
            "my name is rushikesh.\n",
            ".\n",
            ".hsekihsur si eman ym\n",
            " aei\n"
          ]
        }
      ],
      "source": [
        "#basic string mathods\n",
        "name='harry '\n",
        "greeting='good morning '\n",
        "print(type(name))\n",
        "print(name+greeting)\n",
        "\n",
        "\n",
        "sentance=input('write anything: ')\n",
        "print(max(sentance))\n",
        "print(min(sentance))\n",
        "print(len(sentance))\n",
        "print(sentance[0:])\n",
        "print(sentance[-1:])\n",
        "print(sentance[-1::-1])\n",
        "print(sentance[2:10:2])"
      ]
    },
    {
      "cell_type": "code",
      "source": [
        "course=\"python for beginners\"\n",
        "#to find out charcters\n",
        "print(len(course))\n",
        "#convert the characters in upeercase\n",
        "print(course.upper())\n",
        "#convert charaters in lowercase\n",
        "print(course.lower())\n",
        "#to find charater's inex no. or sequence\n",
        "print(course.find('b'))\n",
        "print(course.find('beginners'))\n",
        "#to repalce a charecter or word\n",
        "print(course.replace('p','J'))\n",
        "#to captalize\n",
        "print(course.capitalize())\n",
        "#caseless matching\n",
        "print(course.casefold())\n",
        "#using split method\n",
        "text=\"i have always loved reading,travelling,playing,listining songs ,and watching movies\"\n",
        "print(text.split(','))\n"
      ],
      "metadata": {
        "colab": {
          "base_uri": "https://localhost:8080/"
        },
        "id": "p3PYNDk6g43W",
        "outputId": "b421bff7-c167-4e45-8161-bb974d242331"
      },
      "execution_count": 2,
      "outputs": [
        {
          "output_type": "stream",
          "name": "stdout",
          "text": [
            "20\n",
            "PYTHON FOR BEGINNERS\n",
            "python for beginners\n",
            "11\n",
            "11\n",
            "Jython for beginners\n",
            "Python for beginners\n",
            "python for beginners\n",
            "['i have always loved reading', 'travelling', 'playing', 'listining songs ', 'and watching movies']\n"
          ]
        }
      ]
    },
    {
      "cell_type": "code",
      "source": [
        "#joining string using join()\n",
        "\n",
        "dob=[\"29\",\"01\",\"2000\"]\n",
        "print(\":\".join(dob))\n",
        "\n",
        "#password by using join \n",
        "number='123'\n",
        "name='rushikesh'\n",
        "print(name.join(number))"
      ],
      "metadata": {
        "colab": {
          "base_uri": "https://localhost:8080/"
        },
        "id": "pPFFZPjvhd7j",
        "outputId": "d3f578e0-44a5-4d1e-f722-93d31898929e"
      },
      "execution_count": 3,
      "outputs": [
        {
          "output_type": "stream",
          "name": "stdout",
          "text": [
            "29:01:2000\n",
            "1rushikesh2rushikesh3\n"
          ]
        }
      ]
    },
    {
      "cell_type": "code",
      "source": [
        "#password\n",
        "number='123'\n",
        "name='rushikesh'\n",
        "print(name.join(number))\n"
      ],
      "metadata": {
        "id": "emys2xcbhgCC"
      },
      "execution_count": null,
      "outputs": []
    }
  ]
}