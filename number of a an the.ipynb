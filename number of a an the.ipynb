{
  "nbformat": 4,
  "nbformat_minor": 0,
  "metadata": {
    "colab": {
      "provenance": [],
      "authorship_tag": "ABX9TyNXEG14ZtGS23u1+MZ1arNe",
      "include_colab_link": true
    },
    "kernelspec": {
      "name": "python3",
      "display_name": "Python 3"
    },
    "language_info": {
      "name": "python"
    }
  },
  "cells": [
    {
      "cell_type": "markdown",
      "metadata": {
        "id": "view-in-github",
        "colab_type": "text"
      },
      "source": [
        "<a href=\"https://colab.research.google.com/github/Rushikesh419/Strings-and-lists/blob/main/number%20of%20a%20an%20the.ipynb\" target=\"_parent\"><img src=\"https://colab.research.google.com/assets/colab-badge.svg\" alt=\"Open In Colab\"/></a>"
      ]
    },
    {
      "cell_type": "code",
      "execution_count": 3,
      "metadata": {
        "colab": {
          "base_uri": "https://localhost:8080/"
        },
        "id": "A8bVuXP7AD_p",
        "outputId": "1f86c536-8439-418b-db53-4d28b1cb372d"
      },
      "outputs": [
        {
          "output_type": "stream",
          "name": "stdout",
          "text": [
            "['Theories', 'tell', 'us', 'that', 'universe', 'may', 'go', 'expanding', 'forever', 'getting', 'colder,\"', 'emptier,', 'deader.', 'Alternatively,', 'it', 'may', 'recontract,', 'breaking', 'up', 'the', 'galexies', 'and', 'stars', 'and', 'atoms', 'and', 'atomic', 'nuclei', 'back', 'into', 'constituents.', 'all', 'the', 'problem', 'we', 'face', 'understanding', 'origin', 'and', 'evolution', 'of', 'the', 'universe', 'would', 'then', 'arise', 'again', 'predicting', 'the', 'course', 'of', 'event', 'in', 'end', 'of', 'the', 'universe.']\n",
            "0\n",
            "0\n",
            "5\n",
            "23\n"
          ]
        }
      ],
      "source": [
        "# to find out counts of a,an,the in paragraph\n",
        "x=(\"\"\"Theories tell us that universe may go expanding forever getting colder,\"\n",
        "emptier, deader. Alternatively, it may recontract, breaking up the galexies and\n",
        "stars and atoms and atomic nuclei back into constituents. all the problem we\n",
        "face understanding origin and evolution of the universe would then arise again\n",
        "predicting the course of event in end of the universe.\"\"\")\n",
        "y=x.split()\n",
        "print(y)\n",
        "ca=0\n",
        "can=0\n",
        "cthe=0\n",
        "caa=0\n",
        "\n",
        "for i in y:\n",
        "    if i=='a':\n",
        "        ca=ca+1\n",
        "print(ca)\n",
        "\n",
        "for i in y:\n",
        "    if i=='an':\n",
        "        can=can+1\n",
        "print(can)\n",
        "\n",
        "for i in y:\n",
        "    if i=='the':\n",
        "        cthe=cthe+1\n",
        "print(cthe)\n",
        "\n",
        "for i in x:\n",
        "    if i =='a':\n",
        "        caa=caa+1\n",
        "print(caa)\n"
      ]
    },
    {
      "cell_type": "code",
      "source": [
        "# second method\n",
        "for i in y:\n",
        "    print(i)\n",
        "    if i=='a':\n",
        "        ca=ca+1\n",
        "    if i=='an':\n",
        "        can=can+1\n",
        "    if i=='the':\n",
        "        cthe=cthe+1\n",
        "print(f'total n umber of a is {ca} ,total number of an is {can} ,total number of the is {cthe}') "
      ],
      "metadata": {
        "colab": {
          "base_uri": "https://localhost:8080/"
        },
        "id": "_eg6DSbaAPEp",
        "outputId": "f63d3ff7-994d-4c32-dcdc-6df360bc7971"
      },
      "execution_count": 4,
      "outputs": [
        {
          "output_type": "stream",
          "name": "stdout",
          "text": [
            "Theories\n",
            "tell\n",
            "us\n",
            "that\n",
            "universe\n",
            "may\n",
            "go\n",
            "expanding\n",
            "forever\n",
            "getting\n",
            "colder,\"\n",
            "emptier,\n",
            "deader.\n",
            "Alternatively,\n",
            "it\n",
            "may\n",
            "recontract,\n",
            "breaking\n",
            "up\n",
            "the\n",
            "galexies\n",
            "and\n",
            "stars\n",
            "and\n",
            "atoms\n",
            "and\n",
            "atomic\n",
            "nuclei\n",
            "back\n",
            "into\n",
            "constituents.\n",
            "all\n",
            "the\n",
            "problem\n",
            "we\n",
            "face\n",
            "understanding\n",
            "origin\n",
            "and\n",
            "evolution\n",
            "of\n",
            "the\n",
            "universe\n",
            "would\n",
            "then\n",
            "arise\n",
            "again\n",
            "predicting\n",
            "the\n",
            "course\n",
            "of\n",
            "event\n",
            "in\n",
            "end\n",
            "of\n",
            "the\n",
            "universe.\n",
            "total n umber of a is 0 ,total number of an is 0 ,total number of the is 10\n"
          ]
        }
      ]
    }
  ]
}