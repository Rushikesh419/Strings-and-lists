{
  "nbformat": 4,
  "nbformat_minor": 0,
  "metadata": {
    "colab": {
      "provenance": [],
      "authorship_tag": "ABX9TyM3V1PUXgnXJuokQABnplSO",
      "include_colab_link": true
    },
    "kernelspec": {
      "name": "python3",
      "display_name": "Python 3"
    },
    "language_info": {
      "name": "python"
    }
  },
  "cells": [
    {
      "cell_type": "markdown",
      "metadata": {
        "id": "view-in-github",
        "colab_type": "text"
      },
      "source": [
        "<a href=\"https://colab.research.google.com/github/Rushikesh419/Strings-and-lists/blob/main/combination.ipynb\" target=\"_parent\"><img src=\"https://colab.research.google.com/assets/colab-badge.svg\" alt=\"Open In Colab\"/></a>"
      ]
    },
    {
      "cell_type": "code",
      "execution_count": 1,
      "metadata": {
        "colab": {
          "base_uri": "https://localhost:8080/"
        },
        "id": "15e6_EnekMkV",
        "outputId": "58b5d75f-0e6d-4a02-b718-bd4ff9ba558c"
      },
      "outputs": [
        {
          "output_type": "stream",
          "name": "stdout",
          "text": [
            "enter the number : 9\n",
            "red - 1\n",
            "red - 2\n",
            "red - 3\n",
            "red - 4\n",
            "red - 5\n",
            "red - 6\n",
            "red - 7\n",
            "red - 8\n",
            "red - 9\n",
            "white - 1\n",
            "white - 2\n",
            "white - 3\n",
            "white - 4\n",
            "white - 5\n",
            "white - 6\n",
            "white - 7\n",
            "white - 8\n",
            "white - 9\n",
            "yellow - 1\n",
            "yellow - 2\n",
            "yellow - 3\n",
            "yellow - 4\n",
            "yellow - 5\n",
            "yellow - 6\n",
            "yellow - 7\n",
            "yellow - 8\n",
            "yellow - 9\n",
            "green - 1\n",
            "green - 2\n",
            "green - 3\n",
            "green - 4\n",
            "green - 5\n",
            "green - 6\n",
            "green - 7\n",
            "green - 8\n",
            "green - 9\n",
            "36\n"
          ]
        }
      ],
      "source": [
        "# count number of times balls goat thrown\n",
        "a=int(input('enter the number : '))\n",
        "b=['red','white','yellow','green']\n",
        "count=0\n",
        "for i in b:\n",
        "    for j in range(1,a+1):\n",
        "        print(i,'-',j)\n",
        "        count=count+1\n",
        "print(count)"
      ]
    },
    {
      "cell_type": "code",
      "source": [],
      "metadata": {
        "id": "jGPgTuiokieG"
      },
      "execution_count": 2,
      "outputs": []
    }
  ]
}